{
 "cells": [
  {
   "cell_type": "code",
   "execution_count": null,
   "id": "initial_id",
   "metadata": {
    "collapsed": true
   },
   "outputs": [],
   "source": [
    "from datetime import datetime\n",
    "from pathlib import Path\n",
    "\n",
    "import wave\n",
    "\n",
    "import pyaudio\n",
    "import numpy as np"
   ]
  },
  {
   "cell_type": "code",
   "outputs": [],
   "source": [
    "root = Path('.').parent / 'samples'"
   ],
   "metadata": {
    "collapsed": false
   },
   "id": "cb0e9b618e36be71",
   "execution_count": null
  },
  {
   "cell_type": "code",
   "outputs": [],
   "source": [
    "def load_files(samples_dir, *dirs):\n",
    "    data = {k: [] for k in dirs}\n",
    "    for _dir in dirs:\n",
    "        dpath = Path(samples_dir) / _dir\n",
    "        for path in dpath.iterdir():\n",
    "            if not path.suffix == '.wav':\n",
    "                continue\n",
    "\n",
    "            try:\n",
    "                with wave.open(str(path.absolute()), 'rb') as sound_file:\n",
    "                    data[_dir].append({\n",
    "                        \"params\": sound_file.getparams(),\n",
    "                        \"frames\": sound_file.readframes(sound_file.getnframes())\n",
    "                    })\n",
    "            except wave.Error as e:\n",
    "                print(f\"Error loading file {path}: {e}\")\n",
    "\n",
    "    return data"
   ],
   "metadata": {
    "collapsed": false
   },
   "id": "30b1bb857a955d1f",
   "execution_count": null
  },
  {
   "cell_type": "code",
   "outputs": [],
   "source": [
    "data = load_files(root, 'days', 'hours', 'minutes', 'months', 'minute_nouns')"
   ],
   "metadata": {
    "collapsed": false
   },
   "id": "7ad5c91234496c5",
   "execution_count": null
  },
  {
   "cell_type": "code",
   "outputs": [],
   "source": [
    "def get_time_based_indexes(_time: datetime):\n",
    "    day = _time.timetuple().tm_mday - 1\n",
    "    hour = _time.hour - 1\n",
    "    minute = _time.minute\n",
    "    month = _time.month - 1\n",
    "\n",
    "    if minute % 10 == 1:\n",
    "        minutes_noun = 2\n",
    "    elif minute % 10 in [2, 3, 4] and (minute / 10) % 10 != 1:\n",
    "        minutes_noun = 1\n",
    "    else:\n",
    "        minutes_noun = 0\n",
    "\n",
    "    return day, month, hour, minute - 1, minutes_noun"
   ],
   "metadata": {
    "collapsed": false
   },
   "id": "6a7bc96d94b7fb2a",
   "execution_count": null
  },
  {
   "cell_type": "code",
   "outputs": [],
   "source": [
    "def play_sound(sound_data):\n",
    "    p = pyaudio.PyAudio()\n",
    "\n",
    "    frames = sound_data[\"frames\"]\n",
    "    params = sound_data[\"params\"]\n",
    "\n",
    "    stream = p.open(format=p.get_format_from_width(params.sampwidth),\n",
    "                    channels=params.nchannels,\n",
    "                    rate=params.framerate,\n",
    "                    output=True)\n",
    "\n",
    "    stream.write(frames)\n",
    "\n",
    "    stream.stop_stream()\n",
    "    stream.close()\n",
    "\n",
    "    p.terminate()"
   ],
   "metadata": {
    "collapsed": false
   },
   "id": "fbd0886f845f81bd",
   "execution_count": null
  },
  {
   "cell_type": "code",
   "outputs": [],
   "source": [
    "def trim_silence(audio_data, threshold=75):\n",
    "    non_silent_indices = np.where(np.abs(audio_data) > threshold)[0]\n",
    "    if non_silent_indices.size == 0:\n",
    "        return b\"\"\n",
    "    start, end = non_silent_indices[0], non_silent_indices[-1]\n",
    "\n",
    "    return audio_data[start:end + 1]\n",
    "\n",
    "\n",
    "def crossfade(audio1, audio2, sr=44100, fade_duration_ms=50):\n",
    "    if audio1 is None:\n",
    "        return audio2\n",
    "\n",
    "    if audio2 is None:\n",
    "        return audio1\n",
    "    \n",
    "    fade_samples = int((fade_duration_ms / 1000) * sr)\n",
    "\n",
    "    if fade_samples > len(audio1) or fade_samples > len(audio2):\n",
    "        fade_samples = min(len(audio1), len(audio2))\n",
    "\n",
    "    crossfaded = (\n",
    "            audio1[-fade_samples:] + audio2[:fade_samples] / 2\n",
    "    ).astype(np.int16)\n",
    "\n",
    "    return np.concatenate([audio1[:-fade_samples], crossfaded, audio2[fade_samples:]])\n",
    "\n",
    "\n",
    "def concatenate_samples(sample1, sample2, threshold=75):\n",
    "    s1 = np.frombuffer(sample1['frames'], np.int16)\n",
    "    s2 = np.frombuffer(sample2['frames'], np.int16)\n",
    "\n",
    "    s1 = trim_silence(s1, threshold=threshold)\n",
    "    s2 = trim_silence(s2, threshold=threshold)\n",
    "    faded = crossfade(s1, s2, sr=sample1['params'].framerate)\n",
    "    \n",
    "    faded = np.concat([faded, np.linspace(1, 0, int(0.2 * sample1['params'].framerate)).astype(np.int16) * faded[-1]])\n",
    "    \n",
    "    return {\n",
    "        \"params\": sample1[\"params\"],\n",
    "        \"frames\": faded.tobytes()\n",
    "    }"
   ],
   "metadata": {
    "collapsed": false
   },
   "id": "ccd67523b85ad16a",
   "execution_count": null
  },
  {
   "cell_type": "code",
   "outputs": [],
   "source": [
    "day, month, hour, minute, m_noun = get_time_based_indexes(datetime(2024, 2, 24, 13, 41).now())\n",
    "phrase = concatenate_samples(data[\"days\"][day], data[\"months\"][month])\n",
    "phrase = concatenate_samples(phrase, data[\"hours\"][hour])\n",
    "phrase = concatenate_samples(phrase, data[\"minutes\"][minute])\n",
    "phrase = concatenate_samples(phrase, data[\"minute_nouns\"][m_noun])\n",
    "\n",
    "play_sound(phrase)"
   ],
   "metadata": {
    "collapsed": false,
    "ExecuteTime": {
     "end_time": "2024-12-22T16:39:07.567959600Z",
     "start_time": "2024-12-22T16:39:03.540605700Z"
    }
   },
   "id": "dcc8867d07269f2e",
   "execution_count": 660
  },
  {
   "cell_type": "code",
   "outputs": [],
   "source": [],
   "metadata": {
    "collapsed": false
   },
   "id": "c4ebf08234b6aa2"
  }
 ],
 "metadata": {
  "kernelspec": {
   "display_name": "Python 3",
   "language": "python",
   "name": "python3"
  },
  "language_info": {
   "codemirror_mode": {
    "name": "ipython",
    "version": 2
   },
   "file_extension": ".py",
   "mimetype": "text/x-python",
   "name": "python",
   "nbconvert_exporter": "python",
   "pygments_lexer": "ipython2",
   "version": "2.7.6"
  }
 },
 "nbformat": 4,
 "nbformat_minor": 5
}
